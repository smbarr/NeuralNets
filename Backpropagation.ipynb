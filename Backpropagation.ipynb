{
 "cells": [
  {
   "cell_type": "code",
   "execution_count": 1,
   "id": "c6f658c7-8dab-4dc7-b65f-2cb7cb6e982d",
   "metadata": {},
   "outputs": [],
   "source": [
    "import numpy as np"
   ]
  },
  {
   "cell_type": "code",
   "execution_count": 2,
   "id": "39e3f4b3-04e1-48c0-8e58-fbc58f085abe",
   "metadata": {},
   "outputs": [],
   "source": [
    "def sigmoid(x, deriv=False):\n",
    "    val = None\n",
    "    if not deriv:\n",
    "        val = 1.0/(1.0+np.exp(-x))\n",
    "    else:\n",
    "        val = np.exp(-x)/((np.exp(-x)+1.0)**2)\n",
    "    return val"
   ]
  },
  {
   "cell_type": "code",
   "execution_count": 3,
   "id": "d7813368-fe7a-4540-8e58-1316ae6f7a35",
   "metadata": {},
   "outputs": [],
   "source": [
    "def MSE(y, target, deriv=False):\n",
    "    n = y.shape[0]\n",
    "    val = None\n",
    "    if not deriv:\n",
    "        val = np.sum((target-y)**2)/n\n",
    "    else:\n",
    "        val = -2.0*(target-y)/n\n",
    "    return val"
   ]
  },
  {
   "cell_type": "code",
   "execution_count": 4,
   "id": "1c4b1e94-c7f3-4466-a6eb-afa83d12bbed",
   "metadata": {},
   "outputs": [],
   "source": [
    "def crossEntropyLoss(y, target, deriv=False):\n",
    "    n = y.shape[0]\n",
    "    val = None\n",
    "    if not deriv:\n",
    "        val = -1.0*np.sum(target*np.log(y)+(1.0-target)*np.log(1.0-target))/n\n",
    "    else:\n",
    "        val = -(target/output) + ((1-target)/(1-output))\n",
    "    return val"
   ]
  },
  {
   "cell_type": "code",
   "execution_count": 5,
   "id": "d742fe0e-8c8e-4fe8-8616-fcdf4274e29c",
   "metadata": {},
   "outputs": [],
   "source": [
    "class NeuralNet:\n",
    "    def __init__(self, layers, params):\n",
    "        self.params = params\n",
    "        self.nLayers = len(layers)\n",
    "        self.W = [np.random.randn(layers[i],layers[i+1]) for i in range(self.nLayers-1)]\n",
    "        self.b = [np.random.randn(layers[i+1]) for i in range(self.nLayers-1)]\n",
    "        self.z = [None for n in range(self.nLayers-1)]\n",
    "        self.a = [None for n in range(self.nLayers-1)]\n",
    "        \n",
    "    def eval(self,x):\n",
    "        self.z[0] = x @ self.W[0] + self.b[0]\n",
    "        self.a[0] = self.params[\"activation\"](self.z[0])\n",
    "        for n in range(1,self.nLayers-1):\n",
    "            self.z[n] = self.a[n-1] @ self.W[n] + self.b[n]\n",
    "            if n < self.nLayers-2:\n",
    "                self.a[n] = self.params[\"activation\"](self.z[n])\n",
    "            else:\n",
    "                self.a[n] = self.z[n]\n",
    "        return self.a[-1]\n",
    "    \n",
    "    def loss(self, x, target):\n",
    "        y = self.eval(x)\n",
    "        return(self.params[\"loss\"](y, target))\n",
    "    \n",
    "    def backProp(self, x, target):\n",
    "        y = self.eval(x)\n",
    "        dl_dw = [None for n in range(self.nLayers-1)]\n",
    "        dl_dw[self.nLayers-2] = self.params[\"loss\"](y, target, True)\n",
    "        for n in range(self.nLayers-2,0,-1):\n",
    "            dl_dw[n-1] = (self.W[n] @ dl_dw[n]) * self.params[\"activation\"](self.z[n-1], True)\n",
    "            \n",
    "        self.W[0] = self.W[0] - self.params[\"learningRate\"]*(\n",
    "            np.repeat(x[:,None], dl_dw[0].shape[0], axis=1) *\n",
    "            np.repeat(dl_dw[0][None,:], x.shape[0], axis=0)\n",
    "        )\n",
    "        self.b[0] = self.b[0] - dl_dw[0]\n",
    "        for n in range(1,self.nLayers-1):\n",
    "            self.W[n] = self.W[n] - self.params[\"learningRate\"]*(\n",
    "                np.repeat(self.a[n-1][:,None], dl_dw[n].shape, axis=1) *\n",
    "                np.repeat(dl_dw[n][None,:], self.a[n-1].shape, axis=0)\n",
    "            )\n",
    "            self.b[n] = self.b[n] - dl_dw[n]"
   ]
  },
  {
   "cell_type": "code",
   "execution_count": 12,
   "id": "95d42217-8347-4140-89f1-e4383cee12fa",
   "metadata": {},
   "outputs": [],
   "source": [
    "net = NeuralNet(\n",
    "    [20,1000,10], \n",
    "    {\n",
    "        \"activation\": sigmoid,\n",
    "        \"loss\": MSE,\n",
    "        \"learningRate\": 0.01\n",
    "    }\n",
    ")"
   ]
  },
  {
   "cell_type": "code",
   "execution_count": 13,
   "id": "8c52c38e-2600-4ba8-be4b-e29b21edcb15",
   "metadata": {},
   "outputs": [
    {
     "data": {
      "text/plain": [
       "array([-0.38404188, -0.62935363,  1.22633497, -0.50598845,  0.81347931,\n",
       "        1.75233331,  0.66825588, -0.44135469,  0.23782176, -1.42835714])"
      ]
     },
     "execution_count": 13,
     "metadata": {},
     "output_type": "execute_result"
    }
   ],
   "source": [
    "target = np.random.randn(10)\n",
    "target"
   ]
  },
  {
   "cell_type": "code",
   "execution_count": 14,
   "id": "7c0959e0-fa03-4964-8f1f-ef7ea76d13b8",
   "metadata": {},
   "outputs": [],
   "source": [
    "x = np.random.randn(20)"
   ]
  },
  {
   "cell_type": "code",
   "execution_count": 15,
   "id": "ff2e62f3-2143-4ba1-803a-4586ebfe4f6f",
   "metadata": {},
   "outputs": [
    {
     "name": "stdout",
     "output_type": "stream",
     "text": [
      "2052.030726413447\n",
      "2.6634610460569846e-12\n",
      "6.657231972240122e-25\n",
      "3.5036517548292595e-30\n",
      "2.8861215774609362e-30\n"
     ]
    }
   ],
   "source": [
    "for n in range(500):\n",
    "    net.backProp(x, target)\n",
    "    if n % 100 == 0:\n",
    "        print(net.loss(x,target))\n",
    "y = net.eval(x)"
   ]
  },
  {
   "cell_type": "code",
   "execution_count": 16,
   "id": "2d5adbfd-6db3-482f-92e6-93b5336e2d34",
   "metadata": {},
   "outputs": [
    {
     "data": {
      "text/plain": [
       "(array([-0.38404188, -0.62935363,  1.22633497, -0.50598845,  0.81347931,\n",
       "         1.75233331,  0.66825588, -0.44135469,  0.23782176, -1.42835714]),\n",
       " array([-0.38404188, -0.62935363,  1.22633497, -0.50598845,  0.81347931,\n",
       "         1.75233331,  0.66825588, -0.44135469,  0.23782176, -1.42835714]))"
      ]
     },
     "execution_count": 16,
     "metadata": {},
     "output_type": "execute_result"
    }
   ],
   "source": [
    "y, target"
   ]
  },
  {
   "cell_type": "code",
   "execution_count": 17,
   "id": "0951631d-1b76-4c65-949c-e229c14ae596",
   "metadata": {},
   "outputs": [
    {
     "data": {
      "text/plain": [
       "1.107486755220436e-30"
      ]
     },
     "execution_count": 17,
     "metadata": {},
     "output_type": "execute_result"
    }
   ],
   "source": [
    "np.sum((target-y)**2)/len(y)"
   ]
  },
  {
   "cell_type": "code",
   "execution_count": null,
   "id": "fa72d7ce-65e4-4bb6-b8eb-fb1ba023a51f",
   "metadata": {},
   "outputs": [],
   "source": []
  }
 ],
 "metadata": {
  "kernelspec": {
   "display_name": "Python 3",
   "language": "python",
   "name": "python3"
  },
  "language_info": {
   "codemirror_mode": {
    "name": "ipython",
    "version": 3
   },
   "file_extension": ".py",
   "mimetype": "text/x-python",
   "name": "python",
   "nbconvert_exporter": "python",
   "pygments_lexer": "ipython3",
   "version": "3.8.8"
  }
 },
 "nbformat": 4,
 "nbformat_minor": 5
}
