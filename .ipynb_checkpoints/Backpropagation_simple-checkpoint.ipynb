{
 "cells": [
  {
   "cell_type": "code",
   "execution_count": 13,
   "id": "c6f658c7-8dab-4dc7-b65f-2cb7cb6e982d",
   "metadata": {},
   "outputs": [],
   "source": [
    "import numpy as np"
   ]
  },
  {
   "cell_type": "code",
   "execution_count": 14,
   "id": "39e3f4b3-04e1-48c0-8e58-fbc58f085abe",
   "metadata": {},
   "outputs": [],
   "source": [
    "def sigmoid(x, deriv=False):\n",
    "    val = None\n",
    "    if not deriv:\n",
    "        val = 1.0/(1.0+np.exp(-x))\n",
    "    else:\n",
    "        val = np.exp(-x)/((np.exp(-x)+1)**2)\n",
    "    return val"
   ]
  },
  {
   "cell_type": "code",
   "execution_count": 15,
   "id": "d7813368-fe7a-4540-8e58-1316ae6f7a35",
   "metadata": {},
   "outputs": [],
   "source": [
    "def MSE(y, target, deriv=False):\n",
    "    n = y.shape[0]\n",
    "    val = None\n",
    "    if not deriv:\n",
    "        val = np.sum((target-y)**2)/n\n",
    "    else:\n",
    "        val = -2.0*(target-y)/n\n",
    "    return val"
   ]
  },
  {
   "cell_type": "code",
   "execution_count": 16,
   "id": "1c4b1e94-c7f3-4466-a6eb-afa83d12bbed",
   "metadata": {},
   "outputs": [],
   "source": [
    "def crossEntropyLoss(y, target, deriv=False):\n",
    "    n = y.shape[0]\n",
    "    val = None\n",
    "    if not deriv:\n",
    "        val = -1.0*np.sum(target*np.log(y)+(1.0-target)*np.log(1.0-target))/n\n",
    "    else:\n",
    "        val = -(target/output) + ((1-target)/(1-output))\n",
    "    return val"
   ]
  },
  {
   "cell_type": "code",
   "execution_count": 17,
   "id": "95d42217-8347-4140-89f1-e4383cee12fa",
   "metadata": {},
   "outputs": [],
   "source": [
    "n_inputs = 20\n",
    "n_hidden = 100\n",
    "n_output = 10\n",
    "\n",
    "lr = 0.01"
   ]
  },
  {
   "cell_type": "code",
   "execution_count": 18,
   "id": "8c52c38e-2600-4ba8-be4b-e29b21edcb15",
   "metadata": {},
   "outputs": [
    {
     "data": {
      "text/plain": [
       "array([-0.50203786,  0.78276795, -0.77423583,  0.45940744,  0.20620102,\n",
       "       -0.06851473,  0.03390663,  0.13977682,  0.08915849,  0.15930394])"
      ]
     },
     "execution_count": 18,
     "metadata": {},
     "output_type": "execute_result"
    }
   ],
   "source": [
    "target = np.random.randn(10)\n",
    "target"
   ]
  },
  {
   "cell_type": "code",
   "execution_count": 19,
   "id": "0cc43b4e-8f69-4b09-bbf1-a3cb646e1a66",
   "metadata": {},
   "outputs": [],
   "source": [
    "W1 = np.random.randn(n_inputs,n_hidden)\n",
    "W2 = np.random.randn(n_hidden,n_hidden)\n",
    "W3 = np.random.randn(n_hidden,n_output)\n",
    "\n",
    "\n",
    "b1 = np.random.randn(n_hidden)\n",
    "b2 = np.random.randn(n_hidden)"
   ]
  },
  {
   "cell_type": "code",
   "execution_count": 20,
   "id": "7c0959e0-fa03-4964-8f1f-ef7ea76d13b8",
   "metadata": {},
   "outputs": [],
   "source": [
    "x = np.random.randn(n_inputs)"
   ]
  },
  {
   "cell_type": "code",
   "execution_count": 21,
   "id": "ff2e62f3-2143-4ba1-803a-4586ebfe4f6f",
   "metadata": {},
   "outputs": [
    {
     "name": "stdout",
     "output_type": "stream",
     "text": [
      "48.63996173923367\n",
      "0.012491946723429745\n",
      "0.0003405595721130754\n",
      "1.3285112140144307e-05\n",
      "6.063452654849679e-07\n",
      "5.250803615293391e-08\n",
      "5.296169051907892e-09\n",
      "5.221059770154765e-10\n",
      "5.013455195669093e-11\n",
      "4.7749880211235236e-12\n",
      "4.5472945503350546e-13\n"
     ]
    }
   ],
   "source": [
    "for n in range(1001):\n",
    "    z1 = x @ W1 + b1\n",
    "    a1 = sigmoid(z1)\n",
    "    \n",
    "    z2 = a1 @ W2\n",
    "    a2 = sigmoid(z2)\n",
    "    \n",
    "    z3 = a1 @ W3\n",
    "        \n",
    "#     a3 = f(z3)   ## Apply activation function to output layer?\n",
    "    a3 = z3\n",
    "    y = a3\n",
    "\n",
    "    if n%100 == 0:\n",
    "        print(MSE(y,target))\n",
    "\n",
    "    l3 = MSE(y, target, True)\n",
    "    l2 = (W3 @ l3) * sigmoid(z2, True)\n",
    "    l1 = (W2 @ l2) * sigmoid(z1, True)\n",
    "\n",
    "    W1 = W1 - lr*(\n",
    "        np.repeat(x[:,None], l1.shape[0], axis=1) *\n",
    "        np.repeat(l1[None,:], x.shape[0], axis=0)\n",
    "    )\n",
    "    W2 = W2 - lr*(\n",
    "        np.repeat(a1[:,None], l2.shape[0], axis=1) *\n",
    "        np.repeat(l2[None,:], a1.shape[0], axis=0)\n",
    "    )\n",
    "    W3 = W3 - lr*(\n",
    "        np.repeat(a2[:,None], l3.shape[0], axis=1) *\n",
    "        np.repeat(l3[None,:], a2.shape[0], axis=0)\n",
    "    )\n",
    "    \n",
    "    b1 = b1 - l1\n",
    "    b2 = b2 - l2"
   ]
  },
  {
   "cell_type": "code",
   "execution_count": 22,
   "id": "2d5adbfd-6db3-482f-92e6-93b5336e2d34",
   "metadata": {},
   "outputs": [
    {
     "data": {
      "text/plain": [
       "(array([-0.50203694,  0.78276898, -0.77423627,  0.45940805,  0.20620132,\n",
       "        -0.06851505,  0.03390575,  0.13977632,  0.0891592 ,  0.15930335]),\n",
       " array([-0.50203786,  0.78276795, -0.77423583,  0.45940744,  0.20620102,\n",
       "        -0.06851473,  0.03390663,  0.13977682,  0.08915849,  0.15930394]))"
      ]
     },
     "execution_count": 22,
     "metadata": {},
     "output_type": "execute_result"
    }
   ],
   "source": [
    "y, target"
   ]
  },
  {
   "cell_type": "code",
   "execution_count": 23,
   "id": "0951631d-1b76-4c65-949c-e229c14ae596",
   "metadata": {},
   "outputs": [
    {
     "data": {
      "text/plain": [
       "4.5472945503350546e-13"
      ]
     },
     "execution_count": 23,
     "metadata": {},
     "output_type": "execute_result"
    }
   ],
   "source": [
    "np.sum((target-y)**2)/len(y)"
   ]
  },
  {
   "cell_type": "code",
   "execution_count": null,
   "id": "fa72d7ce-65e4-4bb6-b8eb-fb1ba023a51f",
   "metadata": {},
   "outputs": [],
   "source": []
  }
 ],
 "metadata": {
  "kernelspec": {
   "display_name": "Python 3",
   "language": "python",
   "name": "python3"
  },
  "language_info": {
   "codemirror_mode": {
    "name": "ipython",
    "version": 3
   },
   "file_extension": ".py",
   "mimetype": "text/x-python",
   "name": "python",
   "nbconvert_exporter": "python",
   "pygments_lexer": "ipython3",
   "version": "3.8.8"
  }
 },
 "nbformat": 4,
 "nbformat_minor": 5
}
