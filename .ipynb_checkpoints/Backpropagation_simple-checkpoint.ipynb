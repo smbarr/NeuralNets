{
 "cells": [
  {
   "cell_type": "code",
   "execution_count": 1,
   "id": "c6f658c7-8dab-4dc7-b65f-2cb7cb6e982d",
   "metadata": {},
   "outputs": [],
   "source": [
    "import numpy as np"
   ]
  },
  {
   "cell_type": "code",
   "execution_count": 2,
   "id": "39e3f4b3-04e1-48c0-8e58-fbc58f085abe",
   "metadata": {},
   "outputs": [],
   "source": [
    "def sigmoid(x, deriv=False):\n",
    "    val = None\n",
    "    if not deriv:\n",
    "        val = 1.0/(1.0+np.exp(-x))\n",
    "    else:\n",
    "        val = np.exp(-x)/((np.exp(-x)+1)**2)\n",
    "    return val"
   ]
  },
  {
   "cell_type": "code",
   "execution_count": 3,
   "id": "d7813368-fe7a-4540-8e58-1316ae6f7a35",
   "metadata": {},
   "outputs": [],
   "source": [
    "def MSE(y, target, deriv=False):\n",
    "    n = y.shape[0]\n",
    "    val = None\n",
    "    if not deriv:\n",
    "        val = np.sum((target-y)**2)/n\n",
    "    else:\n",
    "        val = -2.0*(target-y)/n\n",
    "    return val"
   ]
  },
  {
   "cell_type": "code",
   "execution_count": 4,
   "id": "1c4b1e94-c7f3-4466-a6eb-afa83d12bbed",
   "metadata": {},
   "outputs": [],
   "source": [
    "def crossEntropyLoss(y, target, deriv=False):\n",
    "    n = y.shape[0]\n",
    "    val = None\n",
    "    if not deriv:\n",
    "        val = -1.0*np.sum(target*np.log(y)+(1.0-target)*np.log(1.0-target))/n\n",
    "    else:\n",
    "        val = -(target/output) + ((1-target)/(1-output))\n",
    "    return val"
   ]
  },
  {
   "cell_type": "code",
   "execution_count": 5,
   "id": "95d42217-8347-4140-89f1-e4383cee12fa",
   "metadata": {},
   "outputs": [],
   "source": [
    "n_inputs = 20\n",
    "n_hidden = 100\n",
    "n_output = 10\n",
    "\n",
    "lr = 0.01"
   ]
  },
  {
   "cell_type": "code",
   "execution_count": 6,
   "id": "8c52c38e-2600-4ba8-be4b-e29b21edcb15",
   "metadata": {},
   "outputs": [
    {
     "data": {
      "text/plain": [
       "array([-0.03260671, -1.07952834,  0.08169018,  1.07726382, -0.02199684,\n",
       "       -1.45330949,  1.71709421, -0.73157013, -1.03465219,  0.39938319])"
      ]
     },
     "execution_count": 6,
     "metadata": {},
     "output_type": "execute_result"
    }
   ],
   "source": [
    "target = np.random.randn(10)\n",
    "target"
   ]
  },
  {
   "cell_type": "code",
   "execution_count": 7,
   "id": "0cc43b4e-8f69-4b09-bbf1-a3cb646e1a66",
   "metadata": {},
   "outputs": [],
   "source": [
    "W1 = np.random.randn(n_inputs,n_hidden)\n",
    "W2 = np.random.randn(n_hidden,n_output)\n",
    "\n",
    "b1 = np.random.randn(n_hidden)"
   ]
  },
  {
   "cell_type": "code",
   "execution_count": 8,
   "id": "7c0959e0-fa03-4964-8f1f-ef7ea76d13b8",
   "metadata": {},
   "outputs": [],
   "source": [
    "x = np.random.randn(n_inputs)"
   ]
  },
  {
   "cell_type": "code",
   "execution_count": 9,
   "id": "ff2e62f3-2143-4ba1-803a-4586ebfe4f6f",
   "metadata": {},
   "outputs": [
    {
     "name": "stdout",
     "output_type": "stream",
     "text": [
      "23.025413307769245\n",
      "0.21768385134653606\n",
      "0.006151616146849942\n",
      "0.0002148776604502824\n",
      "7.892866898731887e-06\n",
      "2.9412139221699466e-07\n",
      "1.10114871023029e-08\n",
      "4.129023595136131e-10\n",
      "1.549109419008179e-11\n",
      "5.81296224741636e-13\n",
      "2.18142850969309e-14\n"
     ]
    }
   ],
   "source": [
    "for n in range(101):\n",
    "    z1 = x @ W1 + b1\n",
    "    a1 = sigmoid(z1)\n",
    "    z2 = a1 @ W2\n",
    "#     a2 = f(z2)   ## Apply activation function to output layer?\n",
    "    a2 = z2\n",
    "    y = a2\n",
    "\n",
    "    if n%10 == 0:\n",
    "        print(MSE(y,target))\n",
    "\n",
    "    l2 = MSE(y, target, True)# * f_prime(z2)  Don't add the derivative of the activation function if it's not used\n",
    "    l1 = (W2 @ l2) * sigmoid(z1, True)\n",
    "\n",
    "    W1 = W1 - lr*(\n",
    "        np.repeat(x[:,None], l1.shape[0], axis=1) *\n",
    "        np.repeat(l1[None,:], x.shape[0], axis=0)\n",
    "    )\n",
    "    W2 = W2 - lr*(\n",
    "        np.repeat(a1[:,None], l2.shape[0], axis=1) *\n",
    "        np.repeat(l2[None,:], a1.shape[0], axis=0)\n",
    "    )\n",
    "    \n",
    "    b1 = b1 - l1"
   ]
  },
  {
   "cell_type": "code",
   "execution_count": 10,
   "id": "2d5adbfd-6db3-482f-92e6-93b5336e2d34",
   "metadata": {},
   "outputs": [
    {
     "data": {
      "text/plain": [
       "(array([-0.03260652, -1.07952816,  0.08169031,  1.07726381, -0.02199668,\n",
       "        -1.45330958,  1.71709393, -0.73156999, -1.03465217,  0.39938315]),\n",
       " array([-0.03260671, -1.07952834,  0.08169018,  1.07726382, -0.02199684,\n",
       "        -1.45330949,  1.71709421, -0.73157013, -1.03465219,  0.39938319]))"
      ]
     },
     "execution_count": 10,
     "metadata": {},
     "output_type": "execute_result"
    }
   ],
   "source": [
    "y, target"
   ]
  },
  {
   "cell_type": "code",
   "execution_count": 11,
   "id": "0951631d-1b76-4c65-949c-e229c14ae596",
   "metadata": {},
   "outputs": [
    {
     "data": {
      "text/plain": [
       "2.18142850969309e-14"
      ]
     },
     "execution_count": 11,
     "metadata": {},
     "output_type": "execute_result"
    }
   ],
   "source": [
    "np.sum((target-y)**2)/len(y)"
   ]
  },
  {
   "cell_type": "code",
   "execution_count": null,
   "id": "fa72d7ce-65e4-4bb6-b8eb-fb1ba023a51f",
   "metadata": {},
   "outputs": [],
   "source": []
  }
 ],
 "metadata": {
  "kernelspec": {
   "display_name": "Python 3",
   "language": "python",
   "name": "python3"
  },
  "language_info": {
   "codemirror_mode": {
    "name": "ipython",
    "version": 3
   },
   "file_extension": ".py",
   "mimetype": "text/x-python",
   "name": "python",
   "nbconvert_exporter": "python",
   "pygments_lexer": "ipython3",
   "version": "3.8.8"
  }
 },
 "nbformat": 4,
 "nbformat_minor": 5
}
